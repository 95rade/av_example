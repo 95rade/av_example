{
 "cells": [
  {
   "cell_type": "code",
   "execution_count": 41,
   "metadata": {
    "collapsed": true
   },
   "outputs": [],
   "source": [
    "from alpha_vantage.timeseries import TimeSeries\n",
    "from alpha_vantage.techindicators import TechIndicators\n",
    "from alpha_vantage.sectorperformance import SectorPerformances\n",
    "from alpha_vantage.cryptocurrencies import CryptoCurrencies\n",
    "import matplotlib.pyplot as plt\n",
    "import os"
   ]
  },
  {
   "cell_type": "markdown",
   "metadata": {},
   "source": [
    "# Working with time Series\n",
    "We first download the data with our api key."
   ]
  },
  {
   "cell_type": "code",
   "execution_count": 9,
   "metadata": {},
   "outputs": [
    {
     "data": {
      "text/html": [
       "<div>\n",
       "<style>\n",
       "    .dataframe thead tr:only-child th {\n",
       "        text-align: right;\n",
       "    }\n",
       "\n",
       "    .dataframe thead th {\n",
       "        text-align: left;\n",
       "    }\n",
       "\n",
       "    .dataframe tbody tr th {\n",
       "        vertical-align: top;\n",
       "    }\n",
       "</style>\n",
       "<table border=\"1\" class=\"dataframe\">\n",
       "  <thead>\n",
       "    <tr style=\"text-align: right;\">\n",
       "      <th></th>\n",
       "      <th>open</th>\n",
       "      <th>high</th>\n",
       "      <th>low</th>\n",
       "      <th>close</th>\n",
       "      <th>volume</th>\n",
       "    </tr>\n",
       "  </thead>\n",
       "  <tbody>\n",
       "    <tr>\n",
       "      <th>count</th>\n",
       "      <td>100.000000</td>\n",
       "      <td>100.000000</td>\n",
       "      <td>100.000000</td>\n",
       "      <td>100.000000</td>\n",
       "      <td>1.000000e+02</td>\n",
       "    </tr>\n",
       "    <tr>\n",
       "      <th>mean</th>\n",
       "      <td>77.552948</td>\n",
       "      <td>77.564301</td>\n",
       "      <td>77.541970</td>\n",
       "      <td>77.552675</td>\n",
       "      <td>5.578085e+04</td>\n",
       "    </tr>\n",
       "    <tr>\n",
       "      <th>std</th>\n",
       "      <td>0.040049</td>\n",
       "      <td>0.037685</td>\n",
       "      <td>0.043049</td>\n",
       "      <td>0.040161</td>\n",
       "      <td>2.904651e+05</td>\n",
       "    </tr>\n",
       "    <tr>\n",
       "      <th>min</th>\n",
       "      <td>77.460000</td>\n",
       "      <td>77.490000</td>\n",
       "      <td>77.420000</td>\n",
       "      <td>77.445000</td>\n",
       "      <td>5.000000e+02</td>\n",
       "    </tr>\n",
       "    <tr>\n",
       "      <th>25%</th>\n",
       "      <td>77.520000</td>\n",
       "      <td>77.535150</td>\n",
       "      <td>77.510000</td>\n",
       "      <td>77.520000</td>\n",
       "      <td>1.101950e+04</td>\n",
       "    </tr>\n",
       "    <tr>\n",
       "      <th>50%</th>\n",
       "      <td>77.553850</td>\n",
       "      <td>77.560000</td>\n",
       "      <td>77.540000</td>\n",
       "      <td>77.555000</td>\n",
       "      <td>1.657750e+04</td>\n",
       "    </tr>\n",
       "    <tr>\n",
       "      <th>75%</th>\n",
       "      <td>77.590000</td>\n",
       "      <td>77.600000</td>\n",
       "      <td>77.572500</td>\n",
       "      <td>77.590000</td>\n",
       "      <td>3.141550e+04</td>\n",
       "    </tr>\n",
       "    <tr>\n",
       "      <th>max</th>\n",
       "      <td>77.635000</td>\n",
       "      <td>77.640000</td>\n",
       "      <td>77.620000</td>\n",
       "      <td>77.634700</td>\n",
       "      <td>2.914963e+06</td>\n",
       "    </tr>\n",
       "  </tbody>\n",
       "</table>\n",
       "</div>"
      ],
      "text/plain": [
       "             open        high         low       close        volume\n",
       "count  100.000000  100.000000  100.000000  100.000000  1.000000e+02\n",
       "mean    77.552948   77.564301   77.541970   77.552675  5.578085e+04\n",
       "std      0.040049    0.037685    0.043049    0.040161  2.904651e+05\n",
       "min     77.460000   77.490000   77.420000   77.445000  5.000000e+02\n",
       "25%     77.520000   77.535150   77.510000   77.520000  1.101950e+04\n",
       "50%     77.553850   77.560000   77.540000   77.555000  1.657750e+04\n",
       "75%     77.590000   77.600000   77.572500   77.590000  3.141550e+04\n",
       "max     77.635000   77.640000   77.620000   77.634700  2.914963e+06"
      ]
     },
     "execution_count": 9,
     "metadata": {},
     "output_type": "execute_result"
    }
   ],
   "source": [
    "ts = TimeSeries(key=os.environ['API_KEY'], output_format='pandas')\n",
    "data, meta_data = ts.get_intraday(symbol='MSFT',interval='1min', outputsize='compact')\n",
    "# We can describe it\n",
    "data.describe()"
   ]
  },
  {
   "cell_type": "markdown",
   "metadata": {},
   "source": [
    "Check the meta data given back by the api call."
   ]
  },
  {
   "cell_type": "code",
   "execution_count": 27,
   "metadata": {},
   "outputs": [
    {
     "data": {
      "text/plain": [
       "{'1. Information': 'Intraday (1min) prices and volumes',\n",
       " '2. Symbol': 'MSFT',\n",
       " '3. Last Refreshed': '2017-10-13 16:00:00',\n",
       " '4. Interval': '1min',\n",
       " '5. Output Size': 'Compact',\n",
       " '6. Time Zone': 'US/Eastern'}"
      ]
     },
     "execution_count": 27,
     "metadata": {},
     "output_type": "execute_result"
    }
   ],
   "source": [
    "meta_data"
   ]
  },
  {
   "cell_type": "markdown",
   "metadata": {},
   "source": [
    "## Plotting time series"
   ]
  },
  {
   "cell_type": "code",
   "execution_count": 26,
   "metadata": {},
   "outputs": [
    {
     "data": {
      "image/png": "[encoded data removed]",
      "text/plain": [
       "<matplotlib.figure.Figure at 0x7f56a0494860>"
      ]
     },
     "metadata": {},
     "output_type": "display_data"
    }
   ],
   "source": [
    "data.plot(y=['open','close', 'high', 'low'])\n",
    "plt.title('Intraday Times Series for the MSFT stock (1 min)')\n",
    "plt.grid()\n",
    "plt.show()"
   ]
  },
  {
   "cell_type": "markdown",
   "metadata": {
    "collapsed": true
   },
   "source": [
    "# Working with technical indicators"
   ]
  },
  {
   "cell_type": "code",
   "execution_count": 30,
   "metadata": {},
   "outputs": [
    {
     "data": {
      "text/html": [
       "<div>\n",
       "<style>\n",
       "    .dataframe thead tr:only-child th {\n",
       "        text-align: right;\n",
       "    }\n",
       "\n",
       "    .dataframe thead th {\n",
       "        text-align: left;\n",
       "    }\n",
       "\n",
       "    .dataframe tbody tr th {\n",
       "        vertical-align: top;\n",
       "    }\n",
       "</style>\n",
       "<table border=\"1\" class=\"dataframe\">\n",
       "  <thead>\n",
       "    <tr style=\"text-align: right;\">\n",
       "      <th></th>\n",
       "      <th>Real Lower Band</th>\n",
       "      <th>Real Middle Band</th>\n",
       "      <th>Real Upper Band</th>\n",
       "    </tr>\n",
       "  </thead>\n",
       "  <tbody>\n",
       "    <tr>\n",
       "      <th>count</th>\n",
       "      <td>11.000000</td>\n",
       "      <td>11.000000</td>\n",
       "      <td>11.000000</td>\n",
       "    </tr>\n",
       "    <tr>\n",
       "      <th>mean</th>\n",
       "      <td>73.816245</td>\n",
       "      <td>75.771745</td>\n",
       "      <td>77.727264</td>\n",
       "    </tr>\n",
       "    <tr>\n",
       "      <th>std</th>\n",
       "      <td>0.075885</td>\n",
       "      <td>0.150729</td>\n",
       "      <td>0.227301</td>\n",
       "    </tr>\n",
       "    <tr>\n",
       "      <th>min</th>\n",
       "      <td>73.728900</td>\n",
       "      <td>75.555700</td>\n",
       "      <td>77.382600</td>\n",
       "    </tr>\n",
       "    <tr>\n",
       "      <th>25%</th>\n",
       "      <td>73.757200</td>\n",
       "      <td>75.651500</td>\n",
       "      <td>77.545850</td>\n",
       "    </tr>\n",
       "    <tr>\n",
       "      <th>50%</th>\n",
       "      <td>73.803700</td>\n",
       "      <td>75.770200</td>\n",
       "      <td>77.736700</td>\n",
       "    </tr>\n",
       "    <tr>\n",
       "      <th>75%</th>\n",
       "      <td>73.862600</td>\n",
       "      <td>75.883700</td>\n",
       "      <td>77.904850</td>\n",
       "    </tr>\n",
       "    <tr>\n",
       "      <th>max</th>\n",
       "      <td>73.961800</td>\n",
       "      <td>76.006300</td>\n",
       "      <td>78.050800</td>\n",
       "    </tr>\n",
       "  </tbody>\n",
       "</table>\n",
       "</div>"
      ],
      "text/plain": [
       "       Real Lower Band  Real Middle Band  Real Upper Band\n",
       "count        11.000000         11.000000        11.000000\n",
       "mean         73.816245         75.771745        77.727264\n",
       "std           0.075885          0.150729         0.227301\n",
       "min          73.728900         75.555700        77.382600\n",
       "25%          73.757200         75.651500        77.545850\n",
       "50%          73.803700         75.770200        77.736700\n",
       "75%          73.862600         75.883700        77.904850\n",
       "max          73.961800         76.006300        78.050800"
      ]
     },
     "execution_count": 30,
     "metadata": {},
     "output_type": "execute_result"
    }
   ],
   "source": [
    "ti = TechIndicators(key=os.environ['API_KEY'], output_format='pandas')\n",
    "data, meta_data = ti.get_bbands(symbol='MSFT', interval='60min', time_period=60)\n",
    "data.describe()"
   ]
  },
  {
   "cell_type": "code",
   "execution_count": 31,
   "metadata": {},
   "outputs": [
    {
     "data": {
      "text/plain": [
       "{'1: Symbol': 'MSFT',\n",
       " '2: Indicator': 'Bollinger Bands (BBANDS)',\n",
       " '3: Last Refreshed': '2017-10-13 16:00:00',\n",
       " '4: Interval': '60min',\n",
       " '5: Time Period': 60,\n",
       " '6.1: Deviation multiplier for upper band': 2,\n",
       " '6.2: Deviation multiplier for lower band': 2,\n",
       " '6.3: MA Type': 0,\n",
       " '7: Series Type': 'close',\n",
       " '8: Time Zone': 'US/Eastern Time'}"
      ]
     },
     "execution_count": 31,
     "metadata": {},
     "output_type": "execute_result"
    }
   ],
   "source": [
    "meta_data"
   ]
  },
  {
   "cell_type": "markdown",
   "metadata": {},
   "source": [
    "## Plotting technical indicators"
   ]
  },
  {
   "cell_type": "code",
   "execution_count": 33,
   "metadata": {},
   "outputs": [
    {
     "data": {
      "image/png": "[encoded data removed]",
      "text/plain": [
       "<matplotlib.figure.Figure at 0x7f56a0285dd8>"
      ]
     },
     "metadata": {},
     "output_type": "display_data"
    }
   ],
   "source": [
    "data.plot()\n",
    "plt.title('BBbands indicator for  MSFT stock (60 min)')\n",
    "plt.grid()\n",
    "plt.show()"
   ]
  },
  {
   "cell_type": "markdown",
   "metadata": {},
   "source": [
    "# Working with Sector Performance"
   ]
  },
  {
   "cell_type": "code",
   "execution_count": 35,
   "metadata": {},
   "outputs": [
    {
     "data": {
      "text/html": [
       "<div>\n",
       "<style>\n",
       "    .dataframe thead tr:only-child th {\n",
       "        text-align: right;\n",
       "    }\n",
       "\n",
       "    .dataframe thead th {\n",
       "        text-align: left;\n",
       "    }\n",
       "\n",
       "    .dataframe tbody tr th {\n",
       "        vertical-align: top;\n",
       "    }\n",
       "</style>\n",
       "<table border=\"1\" class=\"dataframe\">\n",
       "  <thead>\n",
       "    <tr style=\"text-align: right;\">\n",
       "      <th></th>\n",
       "      <th>Rank A: Real-Time Performance</th>\n",
       "      <th>Rank B: Day Performance</th>\n",
       "      <th>Rank C: Day Performance</th>\n",
       "      <th>Rank D: Month Performance</th>\n",
       "      <th>Rank E: Month Performance</th>\n",
       "      <th>Rank F: Year-to-Date (YTD) Performance</th>\n",
       "      <th>Rank G: Year Performance</th>\n",
       "      <th>Rank H: Year Performance</th>\n",
       "      <th>Rank I: Year Performance</th>\n",
       "      <th>Rank J: Year Performance</th>\n",
       "    </tr>\n",
       "  </thead>\n",
       "  <tbody>\n",
       "    <tr>\n",
       "      <th>count</th>\n",
       "      <td>11.000000</td>\n",
       "      <td>11.000000</td>\n",
       "      <td>11.000000</td>\n",
       "      <td>11.000000</td>\n",
       "      <td>11.000000</td>\n",
       "      <td>11.000000</td>\n",
       "      <td>11.000000</td>\n",
       "      <td>10.000000</td>\n",
       "      <td>10.000000</td>\n",
       "      <td>10.000000</td>\n",
       "    </tr>\n",
       "    <tr>\n",
       "      <th>mean</th>\n",
       "      <td>-0.000336</td>\n",
       "      <td>-0.000336</td>\n",
       "      <td>-0.000064</td>\n",
       "      <td>0.019609</td>\n",
       "      <td>0.040373</td>\n",
       "      <td>0.096282</td>\n",
       "      <td>0.147355</td>\n",
       "      <td>0.273560</td>\n",
       "      <td>0.669650</td>\n",
       "      <td>0.599990</td>\n",
       "    </tr>\n",
       "    <tr>\n",
       "      <th>std</th>\n",
       "      <td>0.004455</td>\n",
       "      <td>0.004455</td>\n",
       "      <td>0.018046</td>\n",
       "      <td>0.026144</td>\n",
       "      <td>0.021682</td>\n",
       "      <td>0.121722</td>\n",
       "      <td>0.135128</td>\n",
       "      <td>0.240311</td>\n",
       "      <td>0.441276</td>\n",
       "      <td>0.643029</td>\n",
       "    </tr>\n",
       "    <tr>\n",
       "      <th>min</th>\n",
       "      <td>-0.007600</td>\n",
       "      <td>-0.007600</td>\n",
       "      <td>-0.046400</td>\n",
       "      <td>-0.012500</td>\n",
       "      <td>0.003900</td>\n",
       "      <td>-0.133100</td>\n",
       "      <td>-0.074100</td>\n",
       "      <td>-0.178000</td>\n",
       "      <td>-0.073000</td>\n",
       "      <td>-0.149400</td>\n",
       "    </tr>\n",
       "    <tr>\n",
       "      <th>25%</th>\n",
       "      <td>-0.002800</td>\n",
       "      <td>-0.002800</td>\n",
       "      <td>-0.006500</td>\n",
       "      <td>-0.003450</td>\n",
       "      <td>0.029400</td>\n",
       "      <td>0.063950</td>\n",
       "      <td>0.054000</td>\n",
       "      <td>0.209075</td>\n",
       "      <td>0.490300</td>\n",
       "      <td>0.009850</td>\n",
       "    </tr>\n",
       "    <tr>\n",
       "      <th>50%</th>\n",
       "      <td>-0.000400</td>\n",
       "      <td>-0.000400</td>\n",
       "      <td>0.001400</td>\n",
       "      <td>0.015700</td>\n",
       "      <td>0.037100</td>\n",
       "      <td>0.120500</td>\n",
       "      <td>0.153200</td>\n",
       "      <td>0.282800</td>\n",
       "      <td>0.756800</td>\n",
       "      <td>0.495350</td>\n",
       "    </tr>\n",
       "    <tr>\n",
       "      <th>75%</th>\n",
       "      <td>0.003200</td>\n",
       "      <td>0.003200</td>\n",
       "      <td>0.013250</td>\n",
       "      <td>0.042200</td>\n",
       "      <td>0.054150</td>\n",
       "      <td>0.154300</td>\n",
       "      <td>0.248050</td>\n",
       "      <td>0.415875</td>\n",
       "      <td>1.024075</td>\n",
       "      <td>1.180750</td>\n",
       "    </tr>\n",
       "    <tr>\n",
       "      <th>max</th>\n",
       "      <td>0.005200</td>\n",
       "      <td>0.005200</td>\n",
       "      <td>0.017700</td>\n",
       "      <td>0.056300</td>\n",
       "      <td>0.080400</td>\n",
       "      <td>0.296000</td>\n",
       "      <td>0.336600</td>\n",
       "      <td>0.669500</td>\n",
       "      <td>1.185100</td>\n",
       "      <td>1.465100</td>\n",
       "    </tr>\n",
       "  </tbody>\n",
       "</table>\n",
       "</div>"
      ],
      "text/plain": [
       "       Rank A: Real-Time Performance  Rank B: Day Performance  \\\n",
       "count                      11.000000                11.000000   \n",
       "mean                       -0.000336                -0.000336   \n",
       "std                         0.004455                 0.004455   \n",
       "min                        -0.007600                -0.007600   \n",
       "25%                        -0.002800                -0.002800   \n",
       "50%                        -0.000400                -0.000400   \n",
       "75%                         0.003200                 0.003200   \n",
       "max                         0.005200                 0.005200   \n",
       "\n",
       "       Rank C: Day Performance  Rank D: Month Performance  \\\n",
       "count                11.000000                  11.000000   \n",
       "mean                 -0.000064                   0.019609   \n",
       "std                   0.018046                   0.026144   \n",
       "min                  -0.046400                  -0.012500   \n",
       "25%                  -0.006500                  -0.003450   \n",
       "50%                   0.001400                   0.015700   \n",
       "75%                   0.013250                   0.042200   \n",
       "max                   0.017700                   0.056300   \n",
       "\n",
       "       Rank E: Month Performance  Rank F: Year-to-Date (YTD) Performance  \\\n",
       "count                  11.000000                               11.000000   \n",
       "mean                    0.040373                                0.096282   \n",
       "std                     0.021682                                0.121722   \n",
       "min                     0.003900                               -0.133100   \n",
       "25%                     0.029400                                0.063950   \n",
       "50%                     0.037100                                0.120500   \n",
       "75%                     0.054150                                0.154300   \n",
       "max                     0.080400                                0.296000   \n",
       "\n",
       "       Rank G: Year Performance  Rank H: Year Performance  \\\n",
       "count                 11.000000                 10.000000   \n",
       "mean                   0.147355                  0.273560   \n",
       "std                    0.135128                  0.240311   \n",
       "min                   -0.074100                 -0.178000   \n",
       "25%                    0.054000                  0.209075   \n",
       "50%                    0.153200                  0.282800   \n",
       "75%                    0.248050                  0.415875   \n",
       "max                    0.336600                  0.669500   \n",
       "\n",
       "       Rank I: Year Performance  Rank J: Year Performance  \n",
       "count                 10.000000                 10.000000  \n",
       "mean                   0.669650                  0.599990  \n",
       "std                    0.441276                  0.643029  \n",
       "min                   -0.073000                 -0.149400  \n",
       "25%                    0.490300                  0.009850  \n",
       "50%                    0.756800                  0.495350  \n",
       "75%                    1.024075                  1.180750  \n",
       "max                    1.185100                  1.465100  "
      ]
     },
     "execution_count": 35,
     "metadata": {},
     "output_type": "execute_result"
    }
   ],
   "source": [
    "sp = SectorPerformances(key=os.environ['API_KEY'], output_format='pandas')\n",
    "data, meta_data = sp.get_sector()\n",
    "data.describe()"
   ]
  },
  {
   "cell_type": "code",
   "execution_count": 36,
   "metadata": {},
   "outputs": [
    {
     "data": {
      "text/plain": [
       "{'Information': 'US Sector Performance (realtime & historical)',\n",
       " 'Last Refreshed': '04:20 PM ET 10/13/2017'}"
      ]
     },
     "execution_count": 36,
     "metadata": {},
     "output_type": "execute_result"
    }
   ],
   "source": [
    "meta_data"
   ]
  },
  {
   "cell_type": "markdown",
   "metadata": {},
   "source": [
    "## Plotting Sector Performance"
   ]
  },
  {
   "cell_type": "code",
   "execution_count": 38,
   "metadata": {},
   "outputs": [
    {
     "data": {
      "image/png": "[encoded data removed]",
      "text/plain": [
       "<matplotlib.figure.Figure at 0x7f56a0228748>"
      ]
     },
     "metadata": {},
     "output_type": "display_data"
    }
   ],
   "source": [
    "data['Rank A: Real-Time Performance'].plot(kind='bar')\n",
    "plt.title('Real Time Performance (%) per Sector')\n",
    "plt.tight_layout()\n",
    "plt.grid()\n",
    "plt.show()"
   ]
  },
  {
   "cell_type": "markdown",
   "metadata": {},
   "source": [
    "# Working with Crypto Currencies"
   ]
  },
  {
   "cell_type": "markdown",
   "metadata": {},
   "source": [
    "To just get the current exchange rate"
   ]
  },
  {
   "cell_type": "code",
   "execution_count": 42,
   "metadata": {},
   "outputs": [
    {
     "data": {
      "text/plain": [
       "{'1. From_Currency Code': 'BTC',\n",
       " '2. From_Currency Name': 'Bitcoin',\n",
       " '3. To_Currency Code': 'USD',\n",
       " '4. To_Currency Name': 'United States Dollar',\n",
       " '5. Exchange Rate': '5566.80500105',\n",
       " '6. Last Refreshed': '2017-10-15 15:13:08',\n",
       " '7. Time Zone': 'UTC'}"
      ]
     },
     "execution_count": 42,
     "metadata": {},
     "output_type": "execute_result"
    }
   ],
   "source": [
    "cc = CryptoCurrencies(key=os.environ['API_KEY'])\n",
    "# There is no metadata in this call\n",
    "data, _ = cc.get_currency_exchange_rate(from_currency='BTC',to_currency='USD')\n",
    "data "
   ]
  },
  {
   "cell_type": "markdown",
   "metadata": {},
   "source": [
    "To get the intraday price of bitcoin "
   ]
  },
  {
   "cell_type": "code",
   "execution_count": 44,
   "metadata": {},
   "outputs": [
    {
     "data": {
      "text/html": [
       "<div>\n",
       "<style>\n",
       "    .dataframe thead tr:only-child th {\n",
       "        text-align: right;\n",
       "    }\n",
       "\n",
       "    .dataframe thead th {\n",
       "        text-align: left;\n",
       "    }\n",
       "\n",
       "    .dataframe tbody tr th {\n",
       "        vertical-align: top;\n",
       "    }\n",
       "</style>\n",
       "<table border=\"1\" class=\"dataframe\">\n",
       "  <thead>\n",
       "    <tr style=\"text-align: right;\">\n",
       "      <th></th>\n",
       "      <th>. price (CNY)</th>\n",
       "      <th>. price (USD)</th>\n",
       "      <th>volume</th>\n",
       "      <th>market cap (USD)</th>\n",
       "    </tr>\n",
       "  </thead>\n",
       "  <tbody>\n",
       "    <tr>\n",
       "      <th>count</th>\n",
       "      <td>922.000000</td>\n",
       "      <td>922.000000</td>\n",
       "      <td>922.000000</td>\n",
       "      <td>9.220000e+02</td>\n",
       "    </tr>\n",
       "    <tr>\n",
       "      <th>mean</th>\n",
       "      <td>36267.767071</td>\n",
       "      <td>5510.730786</td>\n",
       "      <td>7910.785679</td>\n",
       "      <td>4.354742e+07</td>\n",
       "    </tr>\n",
       "    <tr>\n",
       "      <th>std</th>\n",
       "      <td>1432.573143</td>\n",
       "      <td>220.219235</td>\n",
       "      <td>2888.647946</td>\n",
       "      <td>1.618157e+07</td>\n",
       "    </tr>\n",
       "    <tr>\n",
       "      <th>min</th>\n",
       "      <td>32541.176397</td>\n",
       "      <td>4939.612070</td>\n",
       "      <td>4162.087172</td>\n",
       "      <td>2.358883e+07</td>\n",
       "    </tr>\n",
       "    <tr>\n",
       "      <th>25%</th>\n",
       "      <td>36003.603378</td>\n",
       "      <td>5472.545524</td>\n",
       "      <td>4898.628192</td>\n",
       "      <td>2.755651e+07</td>\n",
       "    </tr>\n",
       "    <tr>\n",
       "      <th>50%</th>\n",
       "      <td>36804.422588</td>\n",
       "      <td>5592.983669</td>\n",
       "      <td>7553.729367</td>\n",
       "      <td>4.005520e+07</td>\n",
       "    </tr>\n",
       "    <tr>\n",
       "      <th>75%</th>\n",
       "      <td>37225.613047</td>\n",
       "      <td>5657.978688</td>\n",
       "      <td>10978.945590</td>\n",
       "      <td>6.144114e+07</td>\n",
       "    </tr>\n",
       "    <tr>\n",
       "      <th>max</th>\n",
       "      <td>38472.919043</td>\n",
       "      <td>5850.945143</td>\n",
       "      <td>13696.462618</td>\n",
       "      <td>7.641150e+07</td>\n",
       "    </tr>\n",
       "  </tbody>\n",
       "</table>\n",
       "</div>"
      ],
      "text/plain": [
       "       . price (CNY)  . price (USD)        volume  market cap (USD)\n",
       "count     922.000000     922.000000    922.000000      9.220000e+02\n",
       "mean    36267.767071    5510.730786   7910.785679      4.354742e+07\n",
       "std      1432.573143     220.219235   2888.647946      1.618157e+07\n",
       "min     32541.176397    4939.612070   4162.087172      2.358883e+07\n",
       "25%     36003.603378    5472.545524   4898.628192      2.755651e+07\n",
       "50%     36804.422588    5592.983669   7553.729367      4.005520e+07\n",
       "75%     37225.613047    5657.978688  10978.945590      6.144114e+07\n",
       "max     38472.919043    5850.945143  13696.462618      7.641150e+07"
      ]
     },
     "execution_count": 44,
     "metadata": {},
     "output_type": "execute_result"
    }
   ],
   "source": [
    "# I changed the internal format of the the class to be our friendly data frame.\n",
    "cc.output_format='pandas'\n",
    "data, meta_data = cc.get_digital_currency_intraday(symbol='BTC', market='CNY')\n",
    "data.describe()"
   ]
  },
  {
   "cell_type": "code",
   "execution_count": 45,
   "metadata": {},
   "outputs": [
    {
     "data": {
      "text/html": [
       "<div>\n",
       "<style>\n",
       "    .dataframe thead tr:only-child th {\n",
       "        text-align: right;\n",
       "    }\n",
       "\n",
       "    .dataframe thead th {\n",
       "        text-align: left;\n",
       "    }\n",
       "\n",
       "    .dataframe tbody tr th {\n",
       "        vertical-align: top;\n",
       "    }\n",
       "</style>\n",
       "<table border=\"1\" class=\"dataframe\">\n",
       "  <thead>\n",
       "    <tr style=\"text-align: right;\">\n",
       "      <th></th>\n",
       "      <th>. price (CNY)</th>\n",
       "      <th>. price (USD)</th>\n",
       "      <th>volume</th>\n",
       "      <th>market cap (USD)</th>\n",
       "    </tr>\n",
       "  </thead>\n",
       "  <tbody>\n",
       "    <tr>\n",
       "      <th>2017-10-12 10:25:00</th>\n",
       "      <td>32541.176397</td>\n",
       "      <td>4939.612070</td>\n",
       "      <td>6608.779563</td>\n",
       "      <td>3.264481e+07</td>\n",
       "    </tr>\n",
       "    <tr>\n",
       "      <th>2017-10-12 10:30:00</th>\n",
       "      <td>32627.535231</td>\n",
       "      <td>4952.720974</td>\n",
       "      <td>6650.948551</td>\n",
       "      <td>3.294029e+07</td>\n",
       "    </tr>\n",
       "    <tr>\n",
       "      <th>2017-10-12 10:35:00</th>\n",
       "      <td>32631.085682</td>\n",
       "      <td>4953.335107</td>\n",
       "      <td>6656.276985</td>\n",
       "      <td>3.297077e+07</td>\n",
       "    </tr>\n",
       "    <tr>\n",
       "      <th>2017-10-12 10:40:00</th>\n",
       "      <td>32624.721536</td>\n",
       "      <td>4952.369042</td>\n",
       "      <td>6660.270595</td>\n",
       "      <td>3.298412e+07</td>\n",
       "    </tr>\n",
       "    <tr>\n",
       "      <th>2017-10-12 10:45:00</th>\n",
       "      <td>32626.895455</td>\n",
       "      <td>4952.699038</td>\n",
       "      <td>6659.941360</td>\n",
       "      <td>3.298469e+07</td>\n",
       "    </tr>\n",
       "  </tbody>\n",
       "</table>\n",
       "</div>"
      ],
      "text/plain": [
       "                     . price (CNY)  . price (USD)       volume  \\\n",
       "2017-10-12 10:25:00   32541.176397    4939.612070  6608.779563   \n",
       "2017-10-12 10:30:00   32627.535231    4952.720974  6650.948551   \n",
       "2017-10-12 10:35:00   32631.085682    4953.335107  6656.276985   \n",
       "2017-10-12 10:40:00   32624.721536    4952.369042  6660.270595   \n",
       "2017-10-12 10:45:00   32626.895455    4952.699038  6659.941360   \n",
       "\n",
       "                     market cap (USD)  \n",
       "2017-10-12 10:25:00      3.264481e+07  \n",
       "2017-10-12 10:30:00      3.294029e+07  \n",
       "2017-10-12 10:35:00      3.297077e+07  \n",
       "2017-10-12 10:40:00      3.298412e+07  \n",
       "2017-10-12 10:45:00      3.298469e+07  "
      ]
     },
     "execution_count": 45,
     "metadata": {},
     "output_type": "execute_result"
    }
   ],
   "source": [
    "data.head(5)"
   ]
  },
  {
   "cell_type": "code",
   "execution_count": 48,
   "metadata": {},
   "outputs": [
    {
     "data": {
      "image/png": "[encoded data removed]",
      "text/plain": [
       "<matplotlib.figure.Figure at 0x7f56a1ac8518>"
      ]
     },
     "metadata": {},
     "output_type": "display_data"
    }
   ],
   "source": [
    "data['. price (USD)'].plot()\n",
    "plt.tight_layout()\n",
    "plt.title('Intraday value for bitcoin (BTC)')\n",
    "plt.grid()\n",
    "plt.show()"
   ]
  },
  {
   "cell_type": "code",
   "execution_count": null,
   "metadata": {
    "collapsed": true
   },
   "outputs": [],
   "source": []
  }
 ],
 "metadata": {
  "kernelspec": {
   "display_name": "Python [default]",
   "language": "python",
   "name": "python3"
  },
  "language_info": {
   "codemirror_mode": {
    "name": "ipython",
    "version": 3
   },
   "file_extension": ".py",
   "mimetype": "text/x-python",
   "name": "python",
   "nbconvert_exporter": "python",
   "pygments_lexer": "ipython3",
   "version": "3.6.2"
  }
 },
 "nbformat": 4,
 "nbformat_minor": 2
}
